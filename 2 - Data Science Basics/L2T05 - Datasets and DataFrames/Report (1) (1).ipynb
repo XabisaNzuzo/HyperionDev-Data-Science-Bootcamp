{
 "cells": [
  {
   "cell_type": "code",
   "execution_count": 27,
   "id": "de26fc",
   "metadata": {
    "collapsed": false,
    "id": "h0LVvvnfJsg5"
   },
   "outputs": [
   ],
   "source": [
    "# Import pandas\n",
    "import pandas as pd"
   ]
  },
  {
   "cell_type": "code",
   "execution_count": 28,
   "id": "befc07",
   "metadata": {
    "collapsed": false,
    "id": "rv2oLRnPK36J"
   },
   "outputs": [
   ],
   "source": [
    "# Create a DataFrame with balance.txt\n",
    "\n",
    "df = pd.read_csv('balance.txt', sep=' ')"
   ]
  },
  {
   "cell_type": "markdown",
   "id": "2a79d8",
   "metadata": {
    "collapsed": false,
    "id": "_LXpBJXZLYoh"
   },
   "source": [
    "Write the code needed to produce a report that provides the following information:\n",
    "* Compare the average income based on ethnicity. \n",
    "* On average, do married or single people have a higher balance?\n",
    "* What is the highest income in our dataset?\n",
    "* What is the lowest income in our dataset?\n",
    "* How many cards do we have recorded in our dataset? (Hint: use `sum()`)\n",
    "* How many females do we have information for vs how many males? (Hint: use `count()`For a list of all methods for computation of descriptive stats, explore the [pandas documentation](https://pandas.pydata.org/pandas-docs/stable/reference/frame.html#computations-descriptive-stats)). \n",
    "\n",
    "\n"
   ]
  },
  {
   "cell_type": "code",
   "execution_count": 29,
   "id": "3cb926",
   "metadata": {
    "collapsed": false
   },
   "outputs": [
    {
     "name": "stdout",
     "output_type": "stream",
     "text": [
      "Average Income by Ethnicity:\n",
      "Ethnicity\n",
      "African American    47.682101\n",
      "Asian               44.187833\n",
      "Caucasian           44.521945\n",
      "Name: Income, dtype: float64\n"
     ]
    }
   ],
   "source": [
    "print (\"Average Income by Ethnicity:\")\n",
    "print(df.groupby('Ethnicity')['Income'].mean())"
   ]
  },
  {
   "cell_type": "code",
   "execution_count": 30,
   "id": "7583cc",
   "metadata": {
    "collapsed": false
   },
   "outputs": [
    {
     "name": "stdout",
     "output_type": "stream",
     "text": [
      "Average Balance by Marital Status:\n",
      "Married\n",
      "No     13.493509\n",
      "Yes    13.388473\n",
      "Name: Balance, dtype: float64\n"
     ]
    }
   ],
   "source": [
    "print(\"Average Balance by Marital Status:\")\n",
    "print(df.groupby('Married')['Balance'].mean())"
   ]
  },
  {
   "cell_type": "code",
   "execution_count": 32,
   "id": "b49867",
   "metadata": {
    "collapsed": false
   },
   "outputs": [
    {
     "name": "stdout",
     "output_type": "stream",
     "text": [
      "Highest Income:\n",
      "186.634\n"
     ]
    }
   ],
   "source": [
    "print(\"Highest Income:\" )\n",
    "print(df[\"Income\"].max())"
   ]
  },
  {
   "cell_type": "code",
   "execution_count": 33,
   "id": "59427f",
   "metadata": {
    "collapsed": false
   },
   "outputs": [
    {
     "name": "stdout",
     "output_type": "stream",
     "text": [
      "Lowest Income: \n",
      "3.74940297573192\n"
     ]
    }
   ],
   "source": [
    "print(\"Lowest Income: \")\n",
    "print(df['Balance'].min())"
   ]
  },
  {
   "cell_type": "code",
   "execution_count": 34,
   "id": "d05b08",
   "metadata": {
    "collapsed": false
   },
   "outputs": [
    {
     "name": "stdout",
     "output_type": "stream",
     "text": [
      "Sum of Cards: \n",
      "1183\n"
     ]
    }
   ],
   "source": [
    "print(\"Total number of Cards: \")\n",
    "print(df['Cards'].sum())"
   ]
  },
  {
   "cell_type": "code",
   "execution_count": 37,
   "id": "60ebe9",
   "metadata": {
    "collapsed": false
   },
   "outputs": [
    {
     "name": "stdout",
     "output_type": "stream",
     "text": [
      "Total number of Famales: \n",
      "207\n",
      "\n",
      "Total number of Males: \n",
      "193\n"
     ]
    }
   ],
   "source": [
    "print(\"Total number of Famales: \")\n",
    "print(df[df['Gender']== 'Female']\n",
    "     ['Gender'].count())\n",
    "print(\"\\nTotal number of Males: \")\n",
    "print(df[df['Gender'] == 'Male']\n",
    "     ['Gender'].count())\n",
    "         "
   ]
  }
 ],
 "metadata": {
  "colab": {
   "authorship_tag": "ABX9TyP5J3xG1JXUCQAkP9OLQqdU",
   "provenance": [
   ]
  },
  "kernelspec": {
   "argv": [
    "/usr/bin/python3",
    "-m",
    "ipykernel",
    "--HistoryManager.enabled=False",
    "--matplotlib=inline",
    "-c",
    "%config InlineBackend.figure_formats = set(['retina'])\nimport matplotlib; matplotlib.rcParams['figure.figsize'] = (12, 7)",
    "-f",
    "{connection_file}"
   ],
   "display_name": "Python 3 (system-wide)",
   "env": {
   },
   "language": "python",
   "metadata": {
    "cocalc": {
     "description": "Python 3 programming language",
     "priority": 100,
     "url": "https://www.python.org/"
    }
   },
   "name": "python3",
   "resource_dir": "/ext/jupyter/kernels/python3"
  },
  "language_info": {
   "codemirror_mode": {
    "name": "ipython",
    "version": 3
   },
   "file_extension": ".py",
   "mimetype": "text/x-python",
   "name": "python",
   "nbconvert_exporter": "python",
   "pygments_lexer": "ipython3",
   "version": "3.10.12"
  }
 },
 "nbformat": 4,
 "nbformat_minor": 4
}