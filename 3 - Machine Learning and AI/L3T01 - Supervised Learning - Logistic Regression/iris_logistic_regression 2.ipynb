{
 "cells": [
  {
   "cell_type": "code",
   "execution_count": 1,
   "id": "8d8744c2-8988-4e90-9ed8-ea71a9e41b50",
   "metadata": {
    "executionCancelledAt": null,
    "executionTime": 3183,
    "lastExecutedAt": 1701716094331,
    "lastScheduledRunId": null,
    "lastSuccessfullyExecutedCode": "# importing libraries\nimport numpy as np\nimport pandas as pd\nimport matplotlib.pyplot as plt\nfrom sklearn.model_selection import train_test_split\nfrom sklearn.linear_model import LogisticRegression\nfrom sklearn.metrics import confusion_matrix\nfrom sklearn import preprocessing"
   },
   "outputs": [],
   "source": [
    "# importing libraries\n",
    "import numpy as np\n",
    "import pandas as pd\n",
    "import matplotlib.pyplot as plt\n",
    "from sklearn.model_selection import train_test_split\n",
    "from sklearn.linear_model import LogisticRegression\n",
    "from sklearn.metrics import confusion_matrix\n",
    "from sklearn import preprocessing"
   ]
  },
  {
   "cell_type": "code",
   "execution_count": 2,
   "id": "a659c476-e6b4-4905-b0eb-12761fa8cf7e",
   "metadata": {
    "executionCancelledAt": null,
    "executionTime": 52,
    "lastExecutedAt": 1701716094384,
    "lastScheduledRunId": null,
    "lastSuccessfullyExecutedCode": "# Import Iris dataset\ndf = pd.read_csv(\"Iris.csv\")\ndf.head()",
    "outputsMetadata": {
     "0": {
      "height": 207,
      "type": "dataFrame"
     }
    }
   },
   "outputs": [
    {
     "data": {
      "application/com.datacamp.data-table.v2+json": {
       "table": {
        "data": {
         "Id": [
          1,
          2,
          3,
          4,
          5
         ],
         "PetalLengthCm": [
          1.4,
          1.4,
          1.3,
          1.5,
          1.4
         ],
         "PetalWidthCm": [
          0.2,
          0.2,
          0.2,
          0.2,
          0.2
         ],
         "SepalLengthCm": [
          5.1,
          4.9,
          4.7,
          4.6,
          5
         ],
         "SepalWidthCm": [
          3.5,
          3,
          3.2,
          3.1,
          3.6
         ],
         "Species": [
          "Iris-setosa",
          "Iris-setosa",
          "Iris-setosa",
          "Iris-setosa",
          "Iris-setosa"
         ],
         "index": [
          0,
          1,
          2,
          3,
          4
         ]
        },
        "schema": {
         "fields": [
          {
           "name": "index",
           "type": "integer"
          },
          {
           "name": "Id",
           "type": "integer"
          },
          {
           "name": "SepalLengthCm",
           "type": "number"
          },
          {
           "name": "SepalWidthCm",
           "type": "number"
          },
          {
           "name": "PetalLengthCm",
           "type": "number"
          },
          {
           "name": "PetalWidthCm",
           "type": "number"
          },
          {
           "name": "Species",
           "type": "string"
          }
         ],
         "pandas_version": "1.4.0",
         "primaryKey": [
          "index"
         ]
        }
       },
       "total_rows": 5,
       "truncation_type": null
      },
      "text/html": [
       "<div>\n",
       "<style scoped>\n",
       "    .dataframe tbody tr th:only-of-type {\n",
       "        vertical-align: middle;\n",
       "    }\n",
       "\n",
       "    .dataframe tbody tr th {\n",
       "        vertical-align: top;\n",
       "    }\n",
       "\n",
       "    .dataframe thead th {\n",
       "        text-align: right;\n",
       "    }\n",
       "</style>\n",
       "<table border=\"1\" class=\"dataframe\">\n",
       "  <thead>\n",
       "    <tr style=\"text-align: right;\">\n",
       "      <th></th>\n",
       "      <th>Id</th>\n",
       "      <th>SepalLengthCm</th>\n",
       "      <th>SepalWidthCm</th>\n",
       "      <th>PetalLengthCm</th>\n",
       "      <th>PetalWidthCm</th>\n",
       "      <th>Species</th>\n",
       "    </tr>\n",
       "  </thead>\n",
       "  <tbody>\n",
       "    <tr>\n",
       "      <th>0</th>\n",
       "      <td>1</td>\n",
       "      <td>5.1</td>\n",
       "      <td>3.5</td>\n",
       "      <td>1.4</td>\n",
       "      <td>0.2</td>\n",
       "      <td>Iris-setosa</td>\n",
       "    </tr>\n",
       "    <tr>\n",
       "      <th>1</th>\n",
       "      <td>2</td>\n",
       "      <td>4.9</td>\n",
       "      <td>3.0</td>\n",
       "      <td>1.4</td>\n",
       "      <td>0.2</td>\n",
       "      <td>Iris-setosa</td>\n",
       "    </tr>\n",
       "    <tr>\n",
       "      <th>2</th>\n",
       "      <td>3</td>\n",
       "      <td>4.7</td>\n",
       "      <td>3.2</td>\n",
       "      <td>1.3</td>\n",
       "      <td>0.2</td>\n",
       "      <td>Iris-setosa</td>\n",
       "    </tr>\n",
       "    <tr>\n",
       "      <th>3</th>\n",
       "      <td>4</td>\n",
       "      <td>4.6</td>\n",
       "      <td>3.1</td>\n",
       "      <td>1.5</td>\n",
       "      <td>0.2</td>\n",
       "      <td>Iris-setosa</td>\n",
       "    </tr>\n",
       "    <tr>\n",
       "      <th>4</th>\n",
       "      <td>5</td>\n",
       "      <td>5.0</td>\n",
       "      <td>3.6</td>\n",
       "      <td>1.4</td>\n",
       "      <td>0.2</td>\n",
       "      <td>Iris-setosa</td>\n",
       "    </tr>\n",
       "  </tbody>\n",
       "</table>\n",
       "</div>"
      ],
      "text/plain": [
       "   Id  SepalLengthCm  SepalWidthCm  PetalLengthCm  PetalWidthCm      Species\n",
       "0   1            5.1           3.5            1.4           0.2  Iris-setosa\n",
       "1   2            4.9           3.0            1.4           0.2  Iris-setosa\n",
       "2   3            4.7           3.2            1.3           0.2  Iris-setosa\n",
       "3   4            4.6           3.1            1.5           0.2  Iris-setosa\n",
       "4   5            5.0           3.6            1.4           0.2  Iris-setosa"
      ]
     },
     "execution_count": 2,
     "metadata": {},
     "output_type": "execute_result"
    }
   ],
   "source": [
    "# Import Iris dataset\n",
    "df = pd.read_csv(\"Iris.csv\")\n",
    "df.head()"
   ]
  },
  {
   "cell_type": "code",
   "execution_count": 20,
   "id": "7a9ef784-4e7a-421a-805a-c2b62cebef6d",
   "metadata": {
    "executionCancelledAt": null,
    "executionTime": 51,
    "lastExecutedAt": 1701718016818,
    "lastScheduledRunId": null,
    "lastSuccessfullyExecutedCode": "# Encode independent and dependent variables with 0 and 1.\n# 0 corresponds to the 'Iris-setosa' class, and 1 corresponds\n# to the ‘Not Iris-setosa' class.\n\ndf['encoded_species'] = df['Species'].map({'Iris-setosa': 0, 'Iris-versicolor': 1, 'Iris-virginica': 1})\n\nprint(df)",
    "outputsMetadata": {
     "0": {
      "height": 290,
      "type": "stream"
     }
    }
   },
   "outputs": [
    {
     "name": "stdout",
     "output_type": "stream",
     "text": [
      "      Id  SepalLengthCm  ...         Species  encoded_species\n",
      "0      1            5.1  ...     Iris-setosa                0\n",
      "1      2            4.9  ...     Iris-setosa                0\n",
      "2      3            4.7  ...     Iris-setosa                0\n",
      "3      4            4.6  ...     Iris-setosa                0\n",
      "4      5            5.0  ...     Iris-setosa                0\n",
      "..   ...            ...  ...             ...              ...\n",
      "145  146            6.7  ...  Iris-virginica                1\n",
      "146  147            6.3  ...  Iris-virginica                1\n",
      "147  148            6.5  ...  Iris-virginica                1\n",
      "148  149            6.2  ...  Iris-virginica                1\n",
      "149  150            5.9  ...  Iris-virginica                1\n",
      "\n",
      "[150 rows x 7 columns]\n"
     ]
    }
   ],
   "source": [
    "# Encode independent and dependent variables with 0 and 1.\n",
    "# 0 corresponds to the 'Iris-setosa' class, and 1 corresponds\n",
    "# to the ‘Not Iris-setosa' class.\n",
    "\n",
    "df['encoded_species'] = df['Species'].map({'Iris-setosa': 0, 'Iris-versicolor': 1, 'Iris-virginica': 1})\n",
    "\n",
    "print(df)"
   ]
  },
  {
   "cell_type": "code",
   "execution_count": 21,
   "id": "6f0a2023-999d-4f87-bdcf-dc3cd3179d90",
   "metadata": {
    "executionCancelledAt": null,
    "executionTime": 46,
    "lastExecutedAt": 1701718083226,
    "lastScheduledRunId": null,
    "lastSuccessfullyExecutedCode": "# Identify dependent and independent variables then split the data\n# into training and test set.\n\nX = df.iloc[:,[1,2,3,4]].values\ny = df.iloc[:,6].values\n\nX = X.reshape(-1,4)\nX = preprocessing.scale(X)\n\nX_train, X_test, y_train, y_test = train_test_split(X,y, test_size=0.25, random_state=0)"
   },
   "outputs": [],
   "source": [
    "# Identify dependent and independent variables then split the data\n",
    "# into training and test set.\n",
    "\n",
    "X = df.iloc[:,[1,2,3,4]].values\n",
    "y = df.iloc[:,6].values\n",
    "\n",
    "X = X.reshape(-1,4)\n",
    "X = preprocessing.scale(X)\n",
    "\n",
    "X_train, X_test, y_train, y_test = train_test_split(X,y, test_size=0.25, random_state=0)"
   ]
  },
  {
   "cell_type": "code",
   "execution_count": 22,
   "id": "1f33cfef-a9b3-49ea-9c28-b9c5781b3cec",
   "metadata": {
    "executionCancelledAt": null,
    "executionTime": 49,
    "lastExecutedAt": 1701718120198,
    "lastScheduledRunId": null,
    "lastSuccessfullyExecutedCode": "# Fit a logistic regression model\n\nlog_reg = LogisticRegression()\nlog_reg.fit(X_train, y_train)\n\n# Make predictions on the test\ny_pred = log_reg.predict(X_test).reshape(-1,1)"
   },
   "outputs": [],
   "source": [
    "# Fit a logistic regression model\n",
    "\n",
    "log_reg = LogisticRegression()\n",
    "log_reg.fit(X_train, y_train)\n",
    "\n",
    "# Make predictions on the test\n",
    "y_pred = log_reg.predict(X_test).reshape(-1,1)"
   ]
  },
  {
   "cell_type": "code",
   "execution_count": 23,
   "id": "0d0408b4-8f48-4df5-98f1-27c85a721ea5",
   "metadata": {
    "executionCancelledAt": null,
    "executionTime": 56,
    "lastExecutedAt": 1701718136866,
    "lastScheduledRunId": null,
    "lastSuccessfullyExecutedCode": "# Confusion matrix\n\nclasses = [\"Iris-setosa\", \"Not Iris-setosa\"]\nconf_mat = confusion_matrix(y_test, y_pred)\ncm_df = pd.DataFrame(conf_mat, columns=classes, index=classes)\ncm_df",
    "outputsMetadata": {
     "0": {
      "height": 118,
      "type": "dataFrame"
     }
    }
   },
   "outputs": [
    {
     "data": {
      "application/com.datacamp.data-table.v2+json": {
       "table": {
        "data": {
         "Iris-setosa": [
          13,
          0
         ],
         "Not Iris-setosa": [
          0,
          25
         ],
         "index": [
          "Iris-setosa",
          "Not Iris-setosa"
         ]
        },
        "schema": {
         "fields": [
          {
           "name": "index",
           "type": "string"
          },
          {
           "name": "Iris-setosa",
           "type": "integer"
          },
          {
           "name": "Not Iris-setosa",
           "type": "integer"
          }
         ],
         "pandas_version": "1.4.0",
         "primaryKey": [
          "index"
         ]
        }
       },
       "total_rows": 2,
       "truncation_type": null
      },
      "text/html": [
       "<div>\n",
       "<style scoped>\n",
       "    .dataframe tbody tr th:only-of-type {\n",
       "        vertical-align: middle;\n",
       "    }\n",
       "\n",
       "    .dataframe tbody tr th {\n",
       "        vertical-align: top;\n",
       "    }\n",
       "\n",
       "    .dataframe thead th {\n",
       "        text-align: right;\n",
       "    }\n",
       "</style>\n",
       "<table border=\"1\" class=\"dataframe\">\n",
       "  <thead>\n",
       "    <tr style=\"text-align: right;\">\n",
       "      <th></th>\n",
       "      <th>Iris-setosa</th>\n",
       "      <th>Not Iris-setosa</th>\n",
       "    </tr>\n",
       "  </thead>\n",
       "  <tbody>\n",
       "    <tr>\n",
       "      <th>Iris-setosa</th>\n",
       "      <td>13</td>\n",
       "      <td>0</td>\n",
       "    </tr>\n",
       "    <tr>\n",
       "      <th>Not Iris-setosa</th>\n",
       "      <td>0</td>\n",
       "      <td>25</td>\n",
       "    </tr>\n",
       "  </tbody>\n",
       "</table>\n",
       "</div>"
      ],
      "text/plain": [
       "                 Iris-setosa  Not Iris-setosa\n",
       "Iris-setosa               13                0\n",
       "Not Iris-setosa            0               25"
      ]
     },
     "execution_count": 23,
     "metadata": {},
     "output_type": "execute_result"
    }
   ],
   "source": [
    "# Confusion matrix\n",
    "# The model is likely to have similar precision and recall.\n",
    "\n",
    "classes = [\"Iris-setosa\", \"Not Iris-setosa\"]\n",
    "conf_mat = confusion_matrix(y_test, y_pred)\n",
    "cm_df = pd.DataFrame(conf_mat, columns=classes, index=classes)\n",
    "cm_df"
   ]
  },
  {
   "cell_type": "code",
   "execution_count": 24,
   "id": "eeac719f-f468-4b1e-b23c-43a50d017d7b",
   "metadata": {
    "executionCancelledAt": null,
    "executionTime": 49,
    "lastExecutedAt": 1701718332874,
    "lastScheduledRunId": null,
    "lastSuccessfullyExecutedCode": "# Accuracy, precision, and recall\n\nTP = cm_df.iloc[0,0]\nFP = cm_df.iloc[0,1]\nFN = cm_df.iloc[1,0]\nTN = cm_df.iloc[1,1]\n\naccuracy = (TP + TN)/(TP + FN + TN + FP)\nprecision = TP/(TP + FP)\nrecall = TP/(TP + FN)\n\nprint(\"Accuracy:\", accuracy)\nprint(\"Precision:\", precision)\nprint(\"Recall:\", recall)",
    "outputsMetadata": {
     "0": {
      "height": 76,
      "type": "stream"
     }
    }
   },
   "outputs": [
    {
     "name": "stdout",
     "output_type": "stream",
     "text": [
      "Accuracy: 1.0\n",
      "Precision: 1.0\n",
      "Recall: 1.0\n"
     ]
    }
   ],
   "source": [
    "# Accuracy, precision, and recall\n",
    "\n",
    "TP = cm_df.iloc[0,0]\n",
    "FP = cm_df.iloc[0,1]\n",
    "FN = cm_df.iloc[1,0]\n",
    "TN = cm_df.iloc[1,1]\n",
    "\n",
    "accuracy = (TP + TN)/(TP + FN + TN + FP)\n",
    "precision = TP/(TP + FP)\n",
    "recall = TP/(TP + FN)\n",
    "\n",
    "print(\"Accuracy:\", accuracy)\n",
    "print(\"Precision:\", precision)\n",
    "print(\"Recall:\", recall)"
   ]
  },
  {
   "cell_type": "markdown",
   "id": "e07da8f5-5365-4963-aae9-666d92cb9126",
   "metadata": {},
   "source": [
    "## Check assumptions\n",
    "\n",
    "Precision and Recall are similar, they are both perfect with a value of 1.0. A precision of 1.0 means that every instance predicted as positive is indeed positive and a recall of 1.0 indicates that the model is capturing all instances of the positive class."
   ]
  },
  {
   "cell_type": "markdown",
   "id": "cb54c3c5-32ee-4bca-a611-2a8e9d194919",
   "metadata": {},
   "source": [
    "# Optional task"
   ]
  },
  {
   "cell_type": "code",
   "execution_count": 25,
   "id": "9f651035-08a1-4145-97f1-2ebd38ddb749",
   "metadata": {
    "executionCancelledAt": null,
    "executionTime": null,
    "lastExecutedAt": null,
    "lastScheduledRunId": null,
    "lastSuccessfullyExecutedCode": null,
    "outputsMetadata": {
     "0": {
      "height": 290,
      "type": "stream"
     }
    }
   },
   "outputs": [
    {
     "name": "stdout",
     "output_type": "stream",
     "text": [
      "      Id  SepalLengthCm  ...         Species  encoded_species\n",
      "0      1            5.1  ...     Iris-setosa                0\n",
      "1      2            4.9  ...     Iris-setosa                0\n",
      "2      3            4.7  ...     Iris-setosa                0\n",
      "3      4            4.6  ...     Iris-setosa                0\n",
      "4      5            5.0  ...     Iris-setosa                0\n",
      "..   ...            ...  ...             ...              ...\n",
      "145  146            6.7  ...  Iris-virginica                2\n",
      "146  147            6.3  ...  Iris-virginica                2\n",
      "147  148            6.5  ...  Iris-virginica                2\n",
      "148  149            6.2  ...  Iris-virginica                2\n",
      "149  150            5.9  ...  Iris-virginica                2\n",
      "\n",
      "[150 rows x 7 columns]\n"
     ]
    }
   ],
   "source": [
    "# Encode independent and dependent variables with 0 and 1.\n",
    "# 0, 1, 2 corresponds to the 'Iris-setosa', 'Iris-versicolor' and 'Iris-virginica', respectively.\n",
    "\n",
    "df['encoded_species'] = df['Species'].map({'Iris-setosa': 0, 'Iris-versicolor': 1, 'Iris-virginica': 2})\n",
    "\n",
    "print(df)"
   ]
  },
  {
   "cell_type": "code",
   "execution_count": 26,
   "id": "31b132d5-86df-4b7f-afc5-627c1b88606f",
   "metadata": {
    "executionCancelledAt": null,
    "executionTime": 53,
    "lastExecutedAt": 1701718803502,
    "lastScheduledRunId": null,
    "lastSuccessfullyExecutedCode": "# Identify dependent and independent variables then split the data\n# into training and test set.\n\nX = df.iloc[:,[1,2,3,4]].values\ny = df.iloc[:,6].values\n\nX = X.reshape(-1,4)\nX = preprocessing.scale(X)\n\nX_train, X_test, y_train, y_test = train_test_split(X,y, test_size=0.25, random_state=0)"
   },
   "outputs": [],
   "source": [
    "# Identify dependent and independent variables then split the data\n",
    "# into training and test set.\n",
    "\n",
    "X = df.iloc[:,[1,2,3,4]].values\n",
    "y = df.iloc[:,6].values\n",
    "\n",
    "X = X.reshape(-1,4)\n",
    "X = preprocessing.scale(X)\n",
    "\n",
    "X_train, X_test, y_train, y_test = train_test_split(X,y, test_size=0.25, random_state=0)"
   ]
  },
  {
   "cell_type": "code",
   "execution_count": 27,
   "id": "b1341e00-4b88-43c7-b1e1-73f58222be0d",
   "metadata": {
    "executionCancelledAt": null,
    "executionTime": 54,
    "lastExecutedAt": 1701718825058,
    "lastScheduledRunId": null,
    "lastSuccessfullyExecutedCode": "# Fit a logistic regression model\n\nlog_reg = LogisticRegression()\nlog_reg.fit(X_train, y_train)\n\n# Make predictions on the test\ny_pred = log_reg.predict(X_test).reshape(-1,1)"
   },
   "outputs": [],
   "source": [
    "# Fit a logistic regression model\n",
    "\n",
    "log_reg = LogisticRegression()\n",
    "log_reg.fit(X_train, y_train)\n",
    "\n",
    "# Make predictions on the test\n",
    "y_pred = log_reg.predict(X_test).reshape(-1,1)"
   ]
  },
  {
   "cell_type": "code",
   "execution_count": 29,
   "id": "f3ee1f5d-51ef-4723-b7d2-811c604ed92e",
   "metadata": {
    "executionCancelledAt": null,
    "executionTime": null,
    "lastExecutedAt": null,
    "lastScheduledRunId": null,
    "lastSuccessfullyExecutedCode": null,
    "outputsMetadata": {
     "0": {
      "height": 142,
      "type": "dataFrame"
     }
    }
   },
   "outputs": [
    {
     "data": {
      "application/com.datacamp.data-table.v2+json": {
       "table": {
        "data": {
         "Iris-setosa": [
          13,
          0,
          0
         ],
         "Iris-versicolor": [
          0,
          15,
          0
         ],
         "Iris-virginica": [
          0,
          1,
          9
         ],
         "index": [
          "Iris-setosa",
          "Iris-versicolor",
          "Iris-virginica"
         ]
        },
        "schema": {
         "fields": [
          {
           "name": "index",
           "type": "string"
          },
          {
           "name": "Iris-setosa",
           "type": "integer"
          },
          {
           "name": "Iris-versicolor",
           "type": "integer"
          },
          {
           "name": "Iris-virginica",
           "type": "integer"
          }
         ],
         "pandas_version": "1.4.0",
         "primaryKey": [
          "index"
         ]
        }
       },
       "total_rows": 3,
       "truncation_type": null
      },
      "text/html": [
       "<div>\n",
       "<style scoped>\n",
       "    .dataframe tbody tr th:only-of-type {\n",
       "        vertical-align: middle;\n",
       "    }\n",
       "\n",
       "    .dataframe tbody tr th {\n",
       "        vertical-align: top;\n",
       "    }\n",
       "\n",
       "    .dataframe thead th {\n",
       "        text-align: right;\n",
       "    }\n",
       "</style>\n",
       "<table border=\"1\" class=\"dataframe\">\n",
       "  <thead>\n",
       "    <tr style=\"text-align: right;\">\n",
       "      <th></th>\n",
       "      <th>Iris-setosa</th>\n",
       "      <th>Iris-versicolor</th>\n",
       "      <th>Iris-virginica</th>\n",
       "    </tr>\n",
       "  </thead>\n",
       "  <tbody>\n",
       "    <tr>\n",
       "      <th>Iris-setosa</th>\n",
       "      <td>13</td>\n",
       "      <td>0</td>\n",
       "      <td>0</td>\n",
       "    </tr>\n",
       "    <tr>\n",
       "      <th>Iris-versicolor</th>\n",
       "      <td>0</td>\n",
       "      <td>15</td>\n",
       "      <td>1</td>\n",
       "    </tr>\n",
       "    <tr>\n",
       "      <th>Iris-virginica</th>\n",
       "      <td>0</td>\n",
       "      <td>0</td>\n",
       "      <td>9</td>\n",
       "    </tr>\n",
       "  </tbody>\n",
       "</table>\n",
       "</div>"
      ],
      "text/plain": [
       "                 Iris-setosa  Iris-versicolor  Iris-virginica\n",
       "Iris-setosa               13                0               0\n",
       "Iris-versicolor            0               15               1\n",
       "Iris-virginica             0                0               9"
      ]
     },
     "execution_count": 29,
     "metadata": {},
     "output_type": "execute_result"
    }
   ],
   "source": [
    "# Confusion matrix\n",
    "# The model is likely to have similar precision and recall.\n",
    "\n",
    "classes = [\"Iris-setosa\", \"Iris-versicolor\", \"Iris-virginica\"]\n",
    "conf_mat = confusion_matrix(y_test, y_pred)\n",
    "cm_df = pd.DataFrame(conf_mat, columns=classes, index=classes)\n",
    "cm_df"
   ]
  },
  {
   "cell_type": "markdown",
   "id": "a85dedde-bae3-47b6-8694-4ca72311c365",
   "metadata": {},
   "source": [
    "## Observation from the confusion matrix\n",
    "\n",
    "The difference between the two matrices in the number of classes. The first 2 by 2 matrix seems to have summed all the values on the second and third row to get a True Negative of 25. This indicates that all instances of \"Iris-versicolor\" and \"Iris-virginica\" were considered as negatives for the class \"Iris-setosa\". The 3 by 3 matrix shows the split of that sum with one instance of the Iris-versicolor being misclassified. "
   ]
  },
  {
   "cell_type": "code",
   "execution_count": null,
   "id": "a9f206a7",
   "metadata": {},
   "outputs": [],
   "source": []
  }
 ],
 "metadata": {
  "editor": "DataCamp Workspace",
  "kernelspec": {
   "display_name": "Python 3 (ipykernel)",
   "language": "python",
   "name": "python3"
  },
  "language_info": {
   "codemirror_mode": {
    "name": "ipython",
    "version": 3
   },
   "file_extension": ".py",
   "mimetype": "text/x-python",
   "name": "python",
   "nbconvert_exporter": "python",
   "pygments_lexer": "ipython3",
   "version": "3.11.5"
  }
 },
 "nbformat": 4,
 "nbformat_minor": 5
}
